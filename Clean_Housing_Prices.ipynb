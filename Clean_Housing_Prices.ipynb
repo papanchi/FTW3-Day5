{
  "nbformat": 4,
  "nbformat_minor": 0,
  "metadata": {
    "colab": {
      "name": "Clean Housing Prices.ipynb",
      "provenance": [],
      "collapsed_sections": []
    },
    "kernelspec": {
      "name": "python3",
      "display_name": "Python 3"
    }
  },
  "cells": [
    {
      "cell_type": "code",
      "metadata": {
        "id": "OvNPXBXY_AKL",
        "colab_type": "code",
        "colab": {}
      },
      "source": [
        "import pandas as pd\n",
        "import numpy as np\n",
        "import pandas_profiling as pp\n",
        "import seaborn as sns\n",
        "\n",
        "from sklearn.linear_model import LinearRegression, Ridge, Lasso, ElasticNet # linear regression package\n",
        "from sklearn.model_selection import train_test_split # split dataset\n",
        "from sklearn.metrics import mean_squared_error as mse # Measurement metric"
      ],
      "execution_count": 0,
      "outputs": []
    },
    {
      "cell_type": "markdown",
      "metadata": {
        "id": "qkTQX9a6Bpth",
        "colab_type": "text"
      },
      "source": [
        ""
      ]
    },
    {
      "cell_type": "code",
      "metadata": {
        "id": "CRGD7hNFBt0l",
        "colab_type": "code",
        "colab": {}
      },
      "source": [
        "# helper functions\n",
        "def clean_null_values(df, column):\n",
        "  df[column] = pd.to_numeric(df[column], errors='coerce')\n",
        "  df[column].fillna(0, inplace=True)\n",
        "\n",
        "def convert_to_string(df, column):\n",
        "  df[column] = df[column].apply(lambda x: str(x))"
      ],
      "execution_count": 0,
      "outputs": []
    },
    {
      "cell_type": "code",
      "metadata": {
        "id": "C53TkEDE_pUA",
        "colab_type": "code",
        "colab": {}
      },
      "source": [
        "df = pd.read_csv('nyc-rolling-sales.csv')\n",
        "\n",
        "clean_null_values(df, 'SALE PRICE')\n",
        "clean_null_values(df, 'LAND SQUARE FEET')\n",
        "clean_null_values(df, 'GROSS SQUARE FEET')\n",
        "\n",
        "df = df[((df['SALE PRICE'] > 10000) &\n",
        "         (df['LAND SQUARE FEET'] > 2) &\n",
        "         (df['GROSS SQUARE FEET'] > 0) &\n",
        "         (df['YEAR BUILT'] > 0))]"
      ],
      "execution_count": 0,
      "outputs": []
    },
    {
      "cell_type": "code",
      "metadata": {
        "id": "bWiElkbvPR9F",
        "colab_type": "code",
        "outputId": "8d1134b5-450c-4795-e5eb-9948cfbcdbbf",
        "colab": {
          "base_uri": "https://localhost:8080/",
          "height": 534
        }
      },
      "source": [
        "from datetime import datetime\n",
        "\n",
        "# we had an idea to convert the dates to a number\n",
        "# df['SALE DATE'] = pd.to_datetime(df['SALE DATE'])\n",
        "# df['SALE DATE'] = df['SALE DATE'].apply(lambda x: x.timestamp())\n",
        "df['YEAR BUILT'] = pd.to_datetime(df['YEAR BUILT'])\n",
        "df['YEAR BUILT'] = df['YEAR BUILT'].apply(lambda x: x.timestamp())\n",
        "\n",
        "# we also had an idea to make the sale month a column\n",
        "df['SALE MONTH'] = df['SALE DATE'].apply(lambda x: int(x.split('-')[1]))\n",
        "df.head()"
      ],
      "execution_count": 16,
      "outputs": [
        {
          "output_type": "execute_result",
          "data": {
            "text/html": [
              "<div>\n",
              "<style scoped>\n",
              "    .dataframe tbody tr th:only-of-type {\n",
              "        vertical-align: middle;\n",
              "    }\n",
              "\n",
              "    .dataframe tbody tr th {\n",
              "        vertical-align: top;\n",
              "    }\n",
              "\n",
              "    .dataframe thead th {\n",
              "        text-align: right;\n",
              "    }\n",
              "</style>\n",
              "<table border=\"1\" class=\"dataframe\">\n",
              "  <thead>\n",
              "    <tr style=\"text-align: right;\">\n",
              "      <th></th>\n",
              "      <th>Unnamed: 0</th>\n",
              "      <th>BOROUGH</th>\n",
              "      <th>NEIGHBORHOOD</th>\n",
              "      <th>BUILDING CLASS CATEGORY</th>\n",
              "      <th>TAX CLASS AT PRESENT</th>\n",
              "      <th>BLOCK</th>\n",
              "      <th>LOT</th>\n",
              "      <th>EASE-MENT</th>\n",
              "      <th>BUILDING CLASS AT PRESENT</th>\n",
              "      <th>ADDRESS</th>\n",
              "      <th>APARTMENT NUMBER</th>\n",
              "      <th>ZIP CODE</th>\n",
              "      <th>RESIDENTIAL UNITS</th>\n",
              "      <th>COMMERCIAL UNITS</th>\n",
              "      <th>TOTAL UNITS</th>\n",
              "      <th>LAND SQUARE FEET</th>\n",
              "      <th>GROSS SQUARE FEET</th>\n",
              "      <th>YEAR BUILT</th>\n",
              "      <th>TAX CLASS AT TIME OF SALE</th>\n",
              "      <th>BUILDING CLASS AT TIME OF SALE</th>\n",
              "      <th>SALE PRICE</th>\n",
              "      <th>SALE DATE</th>\n",
              "      <th>SALE MONTH</th>\n",
              "    </tr>\n",
              "  </thead>\n",
              "  <tbody>\n",
              "    <tr>\n",
              "      <th>0</th>\n",
              "      <td>4</td>\n",
              "      <td>1</td>\n",
              "      <td>ALPHABET CITY</td>\n",
              "      <td>07 RENTALS - WALKUP APARTMENTS</td>\n",
              "      <td>2A</td>\n",
              "      <td>392</td>\n",
              "      <td>6</td>\n",
              "      <td></td>\n",
              "      <td>C2</td>\n",
              "      <td>153 AVENUE B</td>\n",
              "      <td></td>\n",
              "      <td>10009</td>\n",
              "      <td>5</td>\n",
              "      <td>0</td>\n",
              "      <td>5</td>\n",
              "      <td>1633.0</td>\n",
              "      <td>6440.0</td>\n",
              "      <td>0.000002</td>\n",
              "      <td>2</td>\n",
              "      <td>C2</td>\n",
              "      <td>6625000.0</td>\n",
              "      <td>2017-07-19 00:00:00</td>\n",
              "      <td>7</td>\n",
              "    </tr>\n",
              "    <tr>\n",
              "      <th>3</th>\n",
              "      <td>7</td>\n",
              "      <td>1</td>\n",
              "      <td>ALPHABET CITY</td>\n",
              "      <td>07 RENTALS - WALKUP APARTMENTS</td>\n",
              "      <td>2B</td>\n",
              "      <td>402</td>\n",
              "      <td>21</td>\n",
              "      <td></td>\n",
              "      <td>C4</td>\n",
              "      <td>154 EAST 7TH STREET</td>\n",
              "      <td></td>\n",
              "      <td>10009</td>\n",
              "      <td>10</td>\n",
              "      <td>0</td>\n",
              "      <td>10</td>\n",
              "      <td>2272.0</td>\n",
              "      <td>6794.0</td>\n",
              "      <td>0.000002</td>\n",
              "      <td>2</td>\n",
              "      <td>C4</td>\n",
              "      <td>3936272.0</td>\n",
              "      <td>2016-09-23 00:00:00</td>\n",
              "      <td>9</td>\n",
              "    </tr>\n",
              "    <tr>\n",
              "      <th>4</th>\n",
              "      <td>8</td>\n",
              "      <td>1</td>\n",
              "      <td>ALPHABET CITY</td>\n",
              "      <td>07 RENTALS - WALKUP APARTMENTS</td>\n",
              "      <td>2A</td>\n",
              "      <td>404</td>\n",
              "      <td>55</td>\n",
              "      <td></td>\n",
              "      <td>C2</td>\n",
              "      <td>301 EAST 10TH   STREET</td>\n",
              "      <td></td>\n",
              "      <td>10009</td>\n",
              "      <td>6</td>\n",
              "      <td>0</td>\n",
              "      <td>6</td>\n",
              "      <td>2369.0</td>\n",
              "      <td>4615.0</td>\n",
              "      <td>0.000002</td>\n",
              "      <td>2</td>\n",
              "      <td>C2</td>\n",
              "      <td>8000000.0</td>\n",
              "      <td>2016-11-17 00:00:00</td>\n",
              "      <td>11</td>\n",
              "    </tr>\n",
              "    <tr>\n",
              "      <th>6</th>\n",
              "      <td>10</td>\n",
              "      <td>1</td>\n",
              "      <td>ALPHABET CITY</td>\n",
              "      <td>07 RENTALS - WALKUP APARTMENTS</td>\n",
              "      <td>2B</td>\n",
              "      <td>406</td>\n",
              "      <td>32</td>\n",
              "      <td></td>\n",
              "      <td>C4</td>\n",
              "      <td>210 AVENUE B</td>\n",
              "      <td></td>\n",
              "      <td>10009</td>\n",
              "      <td>8</td>\n",
              "      <td>0</td>\n",
              "      <td>8</td>\n",
              "      <td>1750.0</td>\n",
              "      <td>4226.0</td>\n",
              "      <td>0.000002</td>\n",
              "      <td>2</td>\n",
              "      <td>C4</td>\n",
              "      <td>3192840.0</td>\n",
              "      <td>2016-09-23 00:00:00</td>\n",
              "      <td>9</td>\n",
              "    </tr>\n",
              "    <tr>\n",
              "      <th>9</th>\n",
              "      <td>13</td>\n",
              "      <td>1</td>\n",
              "      <td>ALPHABET CITY</td>\n",
              "      <td>08 RENTALS - ELEVATOR APARTMENTS</td>\n",
              "      <td>2</td>\n",
              "      <td>387</td>\n",
              "      <td>153</td>\n",
              "      <td></td>\n",
              "      <td>D9</td>\n",
              "      <td>629 EAST 5TH STREET</td>\n",
              "      <td></td>\n",
              "      <td>10009</td>\n",
              "      <td>24</td>\n",
              "      <td>0</td>\n",
              "      <td>24</td>\n",
              "      <td>4489.0</td>\n",
              "      <td>18523.0</td>\n",
              "      <td>0.000002</td>\n",
              "      <td>2</td>\n",
              "      <td>D9</td>\n",
              "      <td>16232000.0</td>\n",
              "      <td>2016-11-07 00:00:00</td>\n",
              "      <td>11</td>\n",
              "    </tr>\n",
              "  </tbody>\n",
              "</table>\n",
              "</div>"
            ],
            "text/plain": [
              "   Unnamed: 0  BOROUGH  ...            SALE DATE SALE MONTH\n",
              "0           4        1  ...  2017-07-19 00:00:00          7\n",
              "3           7        1  ...  2016-09-23 00:00:00          9\n",
              "4           8        1  ...  2016-11-17 00:00:00         11\n",
              "6          10        1  ...  2016-09-23 00:00:00          9\n",
              "9          13        1  ...  2016-11-07 00:00:00         11\n",
              "\n",
              "[5 rows x 23 columns]"
            ]
          },
          "metadata": {
            "tags": []
          },
          "execution_count": 16
        }
      ]
    },
    {
      "cell_type": "code",
      "metadata": {
        "id": "GamGNGUTdqbP",
        "colab_type": "code",
        "outputId": "5c7a769e-7a0d-4f09-a7ed-1d753653337e",
        "colab": {
          "base_uri": "https://localhost:8080/",
          "height": 35
        }
      },
      "source": [
        "# numerical features\n",
        "all_cols = ['RESIDENTIAL UNITS',\n",
        "            'TOTAL UNITS',\n",
        "            'SALE MONTH',\n",
        "            'SALE PRICE']\n",
        "\n",
        "# convert to string so that we can make them dummies\n",
        "convert_to_string(df, 'BOROUGH')\n",
        "convert_to_string(df, 'TAX CLASS AT TIME OF SALE')\n",
        "# convert_to_string(df, 'TAX CLASS AT PRESENT')\n",
        "convert_to_string(df, 'BUILDING CLASS CATEGORY')\n",
        "\n",
        "dummy_df = pd.get_dummies(df[['BOROUGH',\n",
        "                              'TAX CLASS AT TIME OF SALE',\n",
        "                              'BUILDING CLASS CATEGORY']])\n",
        "# dummy_df.head()\n",
        "\n",
        "all_df = pd.concat([df[all_cols], dummy_df], axis=1)\n",
        "# all_df.head()\n",
        "\n",
        "train_cols = all_df.columns.values.tolist()\n",
        "train_cols.remove('SALE PRICE')\n",
        "\n",
        "X = all_df[train_cols]\n",
        "y = all_df['SALE PRICE']\n",
        "\n",
        "# train test split\n",
        "X_train, X_test, y_train, y_test = train_test_split(X, y, test_size = 0.4, random_state = 42)\n",
        "# Initialize model\n",
        "model = LinearRegression()\n",
        "# from sklearn import tree\n",
        "# model = tree.DecisionTreeClassifier()\n",
        "# from sklearn.ensemble import RandomForestClassifier\n",
        "# model = RandomForestClassifier(n_estimators=10)\n",
        "# model = ElasticNet()\n",
        "\n",
        "# Fit model\n",
        "model.fit(X_train, y_train)\n",
        "# Predict prices for test data\n",
        "y_predicted = model.predict(X_test)\n",
        "# Get model score (R2) and RSME\n",
        "model_score = model.score(X_test, y_test)\n",
        "model_rsme = np.sqrt(mse(y_predicted, y_test))\n",
        "\n",
        "print(model_rsme)\n",
        "\n",
        "# get coefficients\n",
        "coefficient = model.coef_\n",
        "\n",
        "# get intercept\n",
        "intercept = model.intercept_"
      ],
      "execution_count": 17,
      "outputs": [
        {
          "output_type": "stream",
          "text": [
            "6513863.314612006\n"
          ],
          "name": "stdout"
        }
      ]
    },
    {
      "cell_type": "code",
      "metadata": {
        "id": "QBuq3urlqjjw",
        "colab_type": "code",
        "outputId": "214b0c38-8dbf-4ddf-92ce-64fbd58425f3",
        "colab": {
          "base_uri": "https://localhost:8080/",
          "height": 35
        }
      },
      "source": [
        "# put coefficients into dataframe\n",
        "# pair the feature names with the coefficients\n",
        "coefficients_pd = pd.DataFrame((list(zip(train_cols, model.coef_ * 1000))), columns = ['Features', 'Coefficients'])\n",
        "\n",
        "# print table of coefficients for contribution chart\n",
        "#coefficients_pd\n",
        "\n",
        "# Plot Contribution chart\n",
        "coefficients_pd.sort_values('Coefficients').set_index('Features').plot(kind = 'barh', color = 'orange')"
      ],
      "execution_count": 18,
      "outputs": [
        {
          "output_type": "execute_result",
          "data": {
            "text/plain": [
              "<matplotlib.axes._subplots.AxesSubplot at 0x7fbd374e56d8>"
            ]
          },
          "metadata": {
            "tags": []
          },
          "execution_count": 18
        }
      ]
    }
  ]
}